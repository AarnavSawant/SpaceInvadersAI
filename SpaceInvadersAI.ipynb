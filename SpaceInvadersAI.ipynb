{
  "nbformat": 4,
  "nbformat_minor": 0,
  "metadata": {
    "colab": {
      "name": "SpaceInvadersAI.ipynb",
      "provenance": [],
      "collapsed_sections": [],
      "mount_file_id": "1sb1M-e5XRaAUkMJ94WXdjhqL4-0yP2DR",
      "authorship_tag": "ABX9TyPuejQB3pbREPHwtCqKUPXF",
      "include_colab_link": true
    },
    "kernelspec": {
      "name": "python3",
      "display_name": "Python 3"
    }
  },
  "cells": [
    {
      "cell_type": "markdown",
      "metadata": {
        "id": "view-in-github",
        "colab_type": "text"
      },
      "source": [
        "<a href=\"https://colab.research.google.com/github/AarnavSawant/SpaceInvadersAI/blob/main/SpaceInvadersAI.ipynb\" target=\"_parent\"><img src=\"https://colab.research.google.com/assets/colab-badge.svg\" alt=\"Open In Colab\"/></a>"
      ]
    },
    {
      "cell_type": "code",
      "metadata": {
        "id": "T2_UKop1iuah"
      },
      "source": [
        "# Importing Libraries\n",
        "import torch\n",
        "import torch.nn as nn\n",
        "import torch.optim as optim\n",
        "import torch.nn.functional as F\n",
        "import torchvision.transforms as T\n",
        "import gym\n",
        "import random\n",
        "import matplotlib.pyplot as plt\n",
        "from skimage.color import rgb2gray\n",
        "from skimage.transform import resize\n",
        "import numpy as np\n",
        "from collections import namedtuple"
      ],
      "execution_count": null,
      "outputs": []
    },
    {
      "cell_type": "code",
      "metadata": {
        "id": "i9BUNPvtBgew"
      },
      "source": [
        "%env\n",
        "CUDA_LAUNCH_BLOCKING=1"
      ],
      "execution_count": null,
      "outputs": []
    },
    {
      "cell_type": "code",
      "metadata": {
        "id": "6NnxHl5c9thx"
      },
      "source": [
        "# Check if GPU Available\r\n",
        "device = torch.device(\"cuda\" if torch.cuda.is_available() else \"cpu\") # if gpu is to be used"
      ],
      "execution_count": null,
      "outputs": []
    },
    {
      "cell_type": "code",
      "metadata": {
        "id": "usd9SIlAjRlN"
      },
      "source": [
        "# Create OpenAIGYm Environment\n",
        "env = gym.make(\"SpaceInvaders-v0\").unwrapped\n",
        "env = gym.wrappers.Monitor(env, \"/content/drive/My Drive/SpaceInvadersDay3\", video_callable=lambda episode_id: True, force=True)"
      ],
      "execution_count": null,
      "outputs": []
    },
    {
      "cell_type": "code",
      "metadata": {
        "id": "N0RQs3FIk3Yg"
      },
      "source": [
        "# Implementing Experience Replay so that the agent can uniformly sample experiences\n",
        "Transition = namedtuple(\"Transition\", [\"state\", \"action\", \"reward\", \"next_state\"])\n",
        "class ExperienceReplay(object):\n",
        "  def __init__(self, capacity):\n",
        "    self.capacity = capacity\n",
        "    self.memory = []\n",
        "    self.position = 0\n",
        "  def push(self, *args):\n",
        "    if len(self.memory) < self.capacity:\n",
        "      self.memory.append(None)\n",
        "    self.memory[self.position] = Transition(*args)\n",
        "    self.position = (self.position + 1) % self.capacity\n",
        "  def sample(self, BATCH_SIZE):\n",
        "    return random.sample(self.memory, BATCH_SIZE)\n",
        "  def __len__(self):\n",
        "    return len(self.memory)"
      ],
      "execution_count": null,
      "outputs": []
    },
    {
      "cell_type": "code",
      "metadata": {
        "colab": {
          "base_uri": "https://localhost:8080/"
        },
        "id": "mxxlM9_LmHfV",
        "outputId": "e2e99c89-c5ec-4e09-a53f-f8c21ccee990"
      },
      "source": [
        "print(env.unwrapped.get_action_meanings())"
      ],
      "execution_count": null,
      "outputs": [
        {
          "output_type": "stream",
          "text": [
            "['NOOP', 'FIRE', 'RIGHT', 'LEFT', 'RIGHTFIRE', 'LEFTFIRE']\n"
          ],
          "name": "stdout"
        }
      ]
    },
    {
      "cell_type": "code",
      "metadata": {
        "id": "DFQsfjV-mqUg"
      },
      "source": [
        "# Main Model Architecture\n",
        "class QNetwork(nn.Module):\n",
        "  def __init__(self, height, width, n_actions):\n",
        "    super(QNetwork, self).__init__()\n",
        "    self.conv1 = nn.Conv2d(4, 16, 8, 4, padding=0)\n",
        "    self.conv2 = nn.Conv2d(16, 32, 4, 2, padding=0)\n",
        "    def getConvOutputSize(size, kernel_size=5, stride=2):\n",
        "      return (size - kernel_size + 2*0) // stride + 1\n",
        "    convolvedWidth = getConvOutputSize(getConvOutputSize(width, 8, 4), 4, 2)\n",
        "    convolvedHeight = getConvOutputSize(getConvOutputSize(height, 8, 4), 4, 2)\n",
        "    self.linear1 = nn.Linear(convolvedWidth * 32 * convolvedHeight, 256)\n",
        "    self.linear2 = nn.Linear(256, n_actions)\n",
        "  def forward(self, x):\n",
        "    x = x.float()\n",
        "    x = x.to(device)\n",
        "    x = F.relu(self.conv1(x))\n",
        "    x = F.relu(self.conv2(x))\n",
        "    x = self.linear2(self.linear1(x.view(x.size(0), -1)))\n",
        "    return x\n"
      ],
      "execution_count": null,
      "outputs": []
    },
    {
      "cell_type": "code",
      "metadata": {
        "id": "bo1-0DU6psw-"
      },
      "source": [
        "from PIL import Image\n",
        "from collections import deque\n",
        "transforms = T.Compose([T.ToPILImage(), T.Resize(84, interpolation=Image.CUBIC), T.ToTensor()])\n",
        "import cv2\n",
        "stack_size = 4\n",
        "stacked_frames = deque([np.zeros((84, 84)) for i in range(stack_size)], maxlen=stack_size)\n",
        "\n",
        "#Using Stacked Frames to account for movement \n",
        "def get_screen(state, is_new_episode):\n",
        "\n",
        "  frame = state\n",
        "  global stacked_frames\n",
        "  # print(len(stacked_frames))\n",
        "  stacked_state = None\n",
        "  frame = resize(rgb2gray(frame), (84, 84))\n",
        "  if is_new_episode:\n",
        "    stacked_frames = deque([np.zeros((84, 84)) for i in range(stack_size)], maxlen=stack_size)\n",
        "    maxFrame = np.maximum(frame, frame)\n",
        "    stacked_frames.append(maxFrame)\n",
        "    stacked_frames.append(maxFrame)\n",
        "    stacked_frames.append(maxFrame)\n",
        "    stacked_frames.append(maxFrame)\n",
        "    stacked_state = np.stack(stacked_frames, axis=2)\n",
        "  else:\n",
        "    last_frame = stacked_frames[-1]\n",
        "    # Take the element_wise maximum of last_frame and frame to account for motion\n",
        "    maxFrame = np.maximum(last_frame, frame)\n",
        "    stacked_frames.append(maxFrame)\n",
        "    stacked_state = np.stack(stacked_frames, axis=2)\n",
        "  frame = torch.from_numpy(stacked_state.transpose((2, 0, 1)))\n",
        "  return frame.unsqueeze(0).to(device)\n"
      ],
      "execution_count": null,
      "outputs": []
    },
    {
      "cell_type": "code",
      "metadata": {
        "id": "xRhMLqSSCH7z"
      },
      "source": [
        "frame = get_screen(env.render(mode=\"rgb_array\"), True)"
      ],
      "execution_count": null,
      "outputs": []
    },
    {
      "cell_type": "code",
      "metadata": {
        "colab": {
          "base_uri": "https://localhost:8080/"
        },
        "id": "F_mENWUzCXEP",
        "outputId": "541ca5c3-b458-40cf-df0c-71c2f19c8eb8"
      },
      "source": [
        "print(frame.shape)"
      ],
      "execution_count": null,
      "outputs": [
        {
          "output_type": "stream",
          "text": [
            "torch.Size([1, 84, 84, 4])\n"
          ],
          "name": "stdout"
        }
      ]
    },
    {
      "cell_type": "code",
      "metadata": {
        "id": "d4sImNkssrlW"
      },
      "source": [
        "# Constants/Initialization\n",
        "BATCH_SIZE = 128\n",
        "EPSILON_START = 1.0\n",
        "import math\n",
        "EPSILON_END = 0.1\n",
        "learning_rate =0.001\n",
        "EPSILON_DECAY = 500000\n",
        "n_actions = env.action_space.n\n",
        "experienceReplay = ExperienceReplay(20000)\n",
        "policyNet = QNetwork(84, 84, n_actions).to(device)\n",
        "targetNet = QNetwork(84, 84, n_actions).to(device)\n",
        "targetNet.load_state_dict(policyNet.state_dict())\n",
        "\n",
        "optimizer = optim.Adam(policyNet.parameters(), lr=0.001)\n",
        "criterion = nn.SmoothL1Loss().to(device)"
      ],
      "execution_count": null,
      "outputs": []
    },
    {
      "cell_type": "code",
      "metadata": {
        "id": "-IgVuCl0r7jA"
      },
      "source": [
        "# Use Epsilon Decay for Exploration vs. Exploitation\n",
        "steps_done = 386371\n",
        "def select_action(state, n_actions):\n",
        "  global steps_done\n",
        "  epsilon = EPSILON_END + (EPSILON_START - EPSILON_END) * math.exp(-1. * steps_done/EPSILON_DECAY)\n",
        "  # print(epsilon)\n",
        "  steps_done += 1\n",
        "  randomNum = random.random()\n",
        "  if randomNum > epsilon:\n",
        "    probabilities = policyNet(state)\n",
        "    top_Q = torch.argmax(probabilities).to(device).item()\n",
        "  else:\n",
        "    top_Q = torch.tensor(random.randint(0, n_actions - 1)).to(device).item()\n",
        "  return top_Q"
      ],
      "execution_count": null,
      "outputs": []
    },
    {
      "cell_type": "code",
      "metadata": {
        "id": "6J8Hgfw66MHP"
      },
      "source": [
        "frame = get_screen(env.render(mode=\"rgb_array\"), True)\n"
      ],
      "execution_count": null,
      "outputs": []
    },
    {
      "cell_type": "code",
      "metadata": {
        "colab": {
          "base_uri": "https://localhost:8080/"
        },
        "id": "ZGtilx6VaVv0",
        "outputId": "763f801e-67b2-4d69-e7b9-0d0e09a0d90b"
      },
      "source": [
        "select_action(get_screen(), n_actions)"
      ],
      "execution_count": null,
      "outputs": [
        {
          "output_type": "stream",
          "text": [
            "0.9\n"
          ],
          "name": "stdout"
        },
        {
          "output_type": "execute_result",
          "data": {
            "text/plain": [
              "9"
            ]
          },
          "metadata": {
            "tags": []
          },
          "execution_count": 76
        }
      ]
    },
    {
      "cell_type": "code",
      "metadata": {
        "id": "LuvS23M6xsKt"
      },
      "source": [
        "# Use 0.97 as the discount factor for V(s')\n",
        "GAMMA = 0.97\n",
        "running_loss = 0\n",
        "def optimize_model():\n",
        "  global running_loss\n",
        "  if len(experienceReplay.memory) < 128:\n",
        "    return\n",
        "  optimizer.zero_grad()\n",
        "  # Create a Named Tuple from the ExperienceReplay\n",
        "  transitions = Transition(*zip(*experienceReplay.sample(BATCH_SIZE)))\n",
        "  # Create a map of states where the next state is not None or GAME OVER\n",
        "  non_final_next_state = tuple(map(lambda x: x is not None, transitions.next_state))\n",
        "  # Gather all of the Next States (Frames)\n",
        "  batch_next_state = torch.cat([t for t in transitions.next_state if t is not None])\n",
        "  # Gather all of the States (frames)\n",
        "  batch_state = torch.cat(transitions.state).to(device)\n",
        "  # Gather all of the Actions (0...6)\n",
        "  batch_actions = torch.tensor(transitions.action).unsqueeze(1).to(device)\n",
        "  # Gather the reward from taking an action at a given state\n",
        "  batch_reward = torch.cat(transitions.reward).to(device)\n",
        "  # Compute the Q values for each action possible at each of the batch states\n",
        "  Q_s_a = policyNet(batch_state)\n",
        "  # print(Q_s_a.shape)\n",
        "  # Gather the Q Value for the action the agent took at that state\n",
        "  Q_s_a = Q_s_a.gather(-1, batch_actions)\n",
        "  # Instantiate a tensor of zeros in the size of the batch_size\n",
        "  next_state_v_values = torch.zeros(BATCH_SIZE).to(device)\n",
        "  # Replace all of the v_values where next_state is not the terminal screen with the Q values of the next_state\n",
        "  next_state_v_values[non_final_next_state] = torch.max(targetNet(batch_next_state))\n",
        "  # Use the Markov Decision Process V(s) = R(s, a) + GAMMA * V(s') to Calculate the Target V-Values\n",
        "  expected_state_v_values = batch_reward + GAMMA * next_state_v_values\n",
        "  Q_s_a = Q_s_a.squeeze()\n",
        "  # Compute the L1 Loss\n",
        "  loss = criterion(Q_s_a, expected_state_v_values)\n",
        "  loss_value = loss.item()\n",
        "  running_loss += loss_value\n",
        "  # Back Propogation\n",
        "  loss.backward()\n",
        "  # Gradient Clipping to avoid Exploding Gradient\n",
        "  for param in policyNet.parameters():\n",
        "        param.grad.data.clamp_(-1, 1)\n",
        "\n"
      ],
      "execution_count": null,
      "outputs": []
    },
    {
      "cell_type": "code",
      "metadata": {
        "id": "nJvriBGhHA4Q"
      },
      "source": [
        "#  For multi-day training, load the state_dict from the last time the model was trained due to Colab Session Restrictions\n",
        "policy_state_dict = torch.load(\"drive/MyDrive/SpaceInvadersDay2/policyNet\", map_location=device)\n",
        "policyNet.load_state_dict(policy_state_dict)\n",
        "target_state_dict = torch.load(\"drive/MyDrive/SpaceInvadersDay2/targetNet\", map_location=device)\n",
        "targetNet.load_state_dict(target_state_dict)\n",
        "optimizer_state_dict = torch.load(\"drive/MyDrive/SpaceInvadersDay2/optimizer\", map_location=device)\n",
        "optimizer.load_state_dict(optimizer_state_dict)"
      ],
      "execution_count": null,
      "outputs": []
    },
    {
      "cell_type": "code",
      "metadata": {
        "id": "PJXIO6lrfsCX"
      },
      "source": [
        "reward_over_time = []\n",
        "with open(\"drive/My Drive/SpaceInvadersDay2/rewardfile.txt\", \"r\") as f:\n",
        "  for line in f:\n",
        "    r = line[:-1]\n",
        "    reward_over_time.append(int(r))\n",
        "states_per_episode = []\n",
        "with open(\"drive/My Drive/SpaceInvadersDay2/statesfile.txt\", \"r\") as f:\n",
        "  for line in f:\n",
        "    r = line[:-1]\n",
        "    states_per_episode.append(int(r))\n",
        "loss_over_time = []\n",
        "with open(\"drive/My Drive/SpaceInvadersDay2/lossfile.txt\", \"r\") as f:\n",
        "  for line in f:\n",
        "    r = line[:-1]\n",
        "    loss_over_time.append(r)\n",
        "\n"
      ],
      "execution_count": null,
      "outputs": []
    },
    {
      "cell_type": "code",
      "metadata": {
        "colab": {
          "base_uri": "https://localhost:8080/"
        },
        "id": "i427czSNge9w",
        "outputId": "bf51478f-43f0-4f1a-f968-85bc0a170593"
      },
      "source": [
        "print(reward_over_time)\n",
        "print(loss_over_time)\n",
        "print(states_per_episode)"
      ],
      "execution_count": null,
      "outputs": [
        {
          "output_type": "stream",
          "text": [
            "[75, 55, 155, 95, 65, 55, 100, 790, 100, 180, 80, 105, 100, 80, 380, 80, 90, 105, 595, 165, 20, 55, 195, 75, 35, 160, 100, 480, 155, 190, 50, 155, 260, 65, 75, 485, 180, 110, 105, 110, 110, 110, 515, 125, 35, 15, 195, 155, 80, 180, 155, 170, 135, 155, 80, 215, 105, 80, 215, 135, 210, 45, 135, 265, 410, 135, 155, 100, 250, 110, 50, 270, 340, 50, 90, 180, 80, 180, 210, 180, 120, 55, 50, 45, 490, 530, 105, 105, 110, 95, 105, 50, 110, 65, 340, 165, 80, 75, 160, 155, 50, 180, 335, 110, 190, 110, 100, 110, 195, 210, 240, 135, 440, 120, 110, 210, 180, 215, 215, 155, 180, 75, 55, 290, 180, 180, 155, 240, 105, 150, 45, 135, 135, 180, 35, 105, 130, 110, 110, 135, 315, 175, 105, 150, 140, 90, 180, 260, 45, 160, 155, 545, 50, 120, 180, 210, 165, 155, 95, 135, 215, 120, 110, 460, 105, 140, 155, 225, 115, 120, 105, 20, 165, 210, 155, 105, 105, 110, 210, 415, 60, 210, 5, 425, 20, 260, 180, 210, 105, 365, 75, 110, 35, 180, 125, 165, 240, 515, 280, 45, 120, 110, 80, 230, 100, 225, 210, 180, 120, 240, 210, 20, 235, 110, 325, 90, 120, 5, 210, 180, 155, 210, 330, 90, 80, 180, 230, 410, 55, 210, 155, 110, 215, 240, 120, 105, 160, 110, 105, 80, 300, 155, 5, 120, 60, 120, 155, 410, 100, 35, 285, 125, 175, 155, 155, 45, 105, 105, 210, 135, 65, 210, 215, 150, 235, 155, 295, 425, 120, 835, 60, 105, 410, 210, 50, 155, 210, 125, 155, 135, 135, 180, 180, 240, 255, 180, 65, 65, 105, 80, 155, 60, 70, 210, 135, 80, 110, 90, 260, 125, 65, 120, 30, 180, 135, 110, 240, 210, 670, 330, 40, 135, 105, 105, 320, 160, 110, 180, 130, 50, 210, 840, 180, 305, 110, 120, 210, 130, 30, 520, 135, 155, 260, 125, 30, 160, 105, 120, 225, 120, 245, 125, 95, 110, 180, 110, 260, 80, 15, 105, 35, 155, 55, 210, 105, 60, 155, 210, 210, 155, 415, 150, 240, 240, 490, 120, 210, 410, 230, 120, 180, 285, 210, 220, 140, 230, 110, 45, 315, 50, 80, 125, 130, 195, 80, 225, 210, 290, 250, 185, 160, 285, 220, 490, 75, 210, 110, 105, 485, 110, 185, 120, 120, 190, 235, 185, 30, 165, 240, 210, 50, 135, 110, 210, 285, 210, 105, 430, 180, 270, 185, 200, 20, 180, 50, 150, 105, 225, 55, 210, 110, 140, 105, 80, 245, 75, 105, 260, 35, 365, 155, 180, 75, 155, 210, 75, 260, 475, 135, 150, 80, 120, 255, 545, 180, 75, 105, 105, 80, 420, 110, 135, 225, 135, 155, 135, 80, 105, 105, 195, 90, 315, 110, 240, 60, 125, 410, 125, 120, 160, 210, 90, 120, 125, 105, 105, 440, 285, 255, 155, 110, 120, 440, 105, 150, 165, 55, 35, 135, 110, 50, 105, 210, 580, 430, 180, 180, 105, 260, 145, 425, 260, 55, 285, 50, 485, 180, 135, 80, 180, 215, 55, 210, 180, 315]\n",
            "['0', '0', '0', '0', '0', '0', '0', '0', '0', '0', '0', '0', '0', '0', '0', '0', '0', '0', '0', '0', '0', '0', '0', '0', '0', '0', '0', '0', '0', '0', '0', '0', '0', '0', '0', '0', '0', '0', '0', '0', '0', '0', '0', '0', '0', '0', '0', '0', '0', '0', '0', '0', '0', '0', '0', '0', '0', '0', '0', '0', '0', '0', '0', '0', '0', '0', '0', '0', '0', '0', '0', '0', '0', '0', '0', '0', '0', '0', '0', '0', '0', '0', '0', '0', '0', '0', '0', '0', '0', '0', '0', '0', '0', '0', '0', '0', '0', '0', '0', '0', '0', '0', '0', '0', '0', '0', '0', '0', '0', '0', '0', '0', '0', '0', '0', '0', '0', '0', '0', '0', '0', '0', '0', '0', '0', '0', '0', '0', '0', '0', '0', '0', '0', '0', '0', '0', '0', '0', '0', '0', '0', '0', '0', '0', '0', '0', '0', '0', '0', '0', '0', '0', '0', '0', '0', '0', '0', '0', '0', '0', '0', '0', '0', '0', '0', '0', '0', '0', '0', '0', '0', '0', '0', '0', '0', '0', '0', '0', '0', '0', '0', '0', '0', '0', '0', '0', '0', '0', '0', '0', '0', '0', '0', '0', '0', '0', '0', '0', '0', '0', '0', '0', '0', '0', '0', '0', '0', '0', '0', '0', '0', '0', '0', '0', '0', '0', '0', '0', '0', '0', '0', '0', '0', '0', '0', '0', '0', '0', '0', '0', '0', '0', '0', '0', '0', '0', '0', '0', '0', '0', '0', '0', '0', '0', '0', '0', '0', '0', '0', '0']\n",
            "[397, 534, 692, 419, 608, 591, 624, 1279, 382, 1049, 498, 698, 508, 366, 1002, 629, 532, 543, 1352, 750, 438, 442, 891, 347, 372, 773, 385, 1214, 1123, 938, 369, 783, 995, 504, 460, 965, 795, 427, 681, 672, 675, 624, 1559, 513, 406, 430, 668, 643, 549, 615, 733, 873, 618, 774, 367, 638, 394, 676, 876, 569, 792, 368, 769, 1020, 851, 520, 809, 701, 988, 430, 557, 762, 816, 652, 754, 864, 397, 732, 801, 651, 607, 383, 478, 410, 1109, 1415, 526, 634, 675, 524, 672, 628, 701, 513, 1093, 644, 394, 544, 764, 620, 387, 765, 828, 720, 817, 600, 612, 615, 1014, 803, 922, 709, 945, 542, 694, 801, 816, 841, 904, 803, 688, 399, 366, 834, 482, 660, 790, 830, 846, 1005, 552, 583, 633, 778, 412, 710, 604, 724, 635, 485, 1145, 928, 559, 757, 633, 538, 639, 919, 594, 767, 623, 878, 540, 650, 630, 658, 631, 711, 408, 825, 792, 684, 654, 932, 622, 832, 734, 857, 703, 758, 736, 372, 990, 859, 500, 822, 618, 746, 772, 1198, 639, 998, 498, 916, 447, 1020, 761, 731, 493, 770, 347, 523, 521, 714, 666, 706, 1535, 1408, 1029, 396, 598, 701, 442, 773, 546, 814, 767, 771, 549, 866, 742, 363, 938, 699, 1042, 471, 675, 528, 800, 828, 803, 799, 959, 615, 386, 799, 866, 900, 542, 814, 760, 764, 617, 960, 539, 727, 654, 652, 664, 668, 968, 650, 397, 596, 566, 654, 699, 801, 382, 395, 935, 685, 808, 662, 709, 523, 640, 745, 731, 573, 355, 968, 748, 831, 929, 641, 1352, 1442, 622, 2041, 399, 570, 820, 769, 418, 539, 860, 654, 778, 677, 784, 628, 949, 935, 1038, 718, 627, 385, 369, 584, 789, 375, 721, 1047, 785, 390, 617, 660, 939, 672, 665, 698, 410, 699, 531, 606, 861, 1467, 1277, 1078, 574, 650, 603, 621, 721, 818, 599, 704, 753, 504, 700, 1376, 814, 1034, 641, 706, 903, 860, 570, 1245, 730, 659, 963, 553, 441, 468, 631, 648, 797, 749, 946, 533, 437, 632, 864, 618, 1064, 472, 536, 634, 562, 755, 577, 938, 495, 397, 568, 803, 787, 609, 895, 736, 902, 1024, 1126, 641, 788, 924, 1106, 759, 837, 1000, 854, 1131, 761, 878, 707, 387, 1084, 435, 631, 844, 578, 788, 599, 923, 819, 889, 859, 906, 555, 879, 1379, 1084, 626, 775, 703, 647, 1359, 669, 750, 642, 668, 892, 922, 847, 390, 819, 952, 752, 398, 753, 597, 841, 964, 772, 636, 1248, 707, 1063, 809, 849, 409, 657, 408, 706, 626, 859, 621, 835, 653, 715, 522, 533, 959, 438, 602, 718, 411, 1588, 804, 723, 504, 404, 852, 531, 962, 1405, 603, 670, 368, 474, 1023, 1068, 815, 450, 702, 621, 680, 1602, 749, 640, 942, 703, 847, 695, 486, 614, 653, 931, 700, 1061, 649, 921, 606, 714, 1501, 682, 1115, 638, 793, 395, 637, 557, 613, 609, 1360, 1429, 854, 653, 669, 797, 976, 530, 810, 783, 389, 381, 762, 599, 622, 741, 995, 1122, 993, 770, 744, 577, 875, 914, 935, 773, 389, 1431, 449, 1030, 693, 665, 590, 677, 846, 572, 1441, 852, 1478]\n"
          ],
          "name": "stdout"
        }
      ]
    },
    {
      "cell_type": "code",
      "metadata": {
        "id": "xt1XuQHm2ve2",
        "colab": {
          "base_uri": "https://localhost:8080/"
        },
        "outputId": "65a25585-8719-43c2-b89d-f02aa735d972"
      },
      "source": [
        "# Main Loop\n",
        "NUM_EPISODES = 2000\n",
        "running_reward = 0\n",
        "states_per_episode = []\n",
        "loss_over_time = []\n",
        "next_state = None\n",
        "reward_over_time = []\n",
        "from itertools import count\n",
        "for i in range(0, 2000):\n",
        "  env.reset()\n",
        "  # Get the current stack of frames\n",
        "  state = get_screen(env.render(mode=\"rgb_array\"), True)\n",
        "  global next_state\n",
        "  global running_loss\n",
        "  running_loss = 0\n",
        "  running_reward = 0\n",
        "  for c in count():\n",
        "    if c % 100 == 0:\n",
        "      # print\n",
        "      # Save Network's Weights Every 100 steps\n",
        "      torch.save(policyNet.state_dict(), \"drive/My Drive/SpaceInvadersDay3/policyNet\")\n",
        "      torch.save(targetNet.state_dict(), \"drive/My Drive/SpaceInvadersDay3/targetNet\")\n",
        "      torch.save(optimizer.state_dict(), \"drive/My Drive/SpaceInvadersDay3/optimizer\")\n",
        "    # Select Action from state\n",
        "    action = select_action(state, n_actions)\n",
        "    # Take the action\n",
        "    next_state, reward, done, _ = env.step(action)\n",
        "    # Get the next stack of frames\n",
        "    next_state = get_screen(next_state, True)\n",
        "    running_reward += reward\n",
        "    reward = torch.tensor([reward])\n",
        "    if not done:\n",
        "      # Make the current state tge next state and keep going\n",
        "      state = next_state\n",
        "    else:\n",
        "      # If Agent Died, Append the Number of states in the current episode, the reward, and the loss\n",
        "      states_per_episode.append(c + 1)\n",
        "      reward_over_time.append(running_reward)\n",
        "      loss_over_time.append(running_loss/(c+1))\n",
        "      print(\"EPISODE\", i + 1, \"STATES\", c + 1, \"Average Loss/Step\", format(running_loss/(c+1), \".2f\"), \"REWARD\", running_reward)\n",
        "      break\n",
        "    experienceReplay.push(state, action, reward, next_state)\n",
        "    loss = optimize_model()\n",
        "  \n",
        "\n",
        "  # Every 10 episodes, replace target weights with policyNet's weights\n",
        "  if i % 10 == 0:\n",
        "    targetNet.load_state_dict(policyNet.state_dict())\n",
        "\n",
        "  # Plot\n",
        "  plt.plot(reward_over_time)\n",
        "  plt.title(\"Reward over Episode\")\n",
        "  plt.xlabel(\"Episode\")\n",
        "  plt.ylabel(\"Reward\")\n",
        "  plt.savefig(\"drive/My Drive/SpaceInvadersDay3/Reward.jpg\")\n",
        "  plt.clf()\n",
        "  plt.plot(states_per_episode)\n",
        "  plt.title(\"States per Episode\")\n",
        "  plt.xlabel(\"Episode\")\n",
        "  plt.ylabel(\"States\")\n",
        "  plt.savefig(\"drive/My Drive/SpaceInvadersDay3/States.jpg\")\n",
        "  plt.clf()\n",
        "  plt.plot(loss_over_time)\n",
        "  plt.title(\"Average Loss per State over Episode\")\n",
        "  plt.xlabel(\"Episode\")\n",
        "  plt.ylabel(\"Average Loss\")\n",
        "  plt.savefig(\"drive/My Drive/SpaceInvadersDay3/Loss.jpg\")\n",
        "  plt.clf()\n",
        "\n",
        "\n",
        "\n",
        "\n",
        "\n",
        "\n"
      ],
      "execution_count": null,
      "outputs": [
        {
          "output_type": "stream",
          "text": [
            "EPISODE 576 STATES 787 Average Loss/Step 0.06 REWARD 195.0\n",
            "EPISODE 577 STATES 992 Average Loss/Step 0.25 REWARD 315.0\n",
            "EPISODE 578 STATES 403 Average Loss/Step 0.27 REWARD 105.0\n",
            "EPISODE 579 STATES 1005 Average Loss/Step 0.28 REWARD 320.0\n",
            "EPISODE 580 STATES 724 Average Loss/Step 0.27 REWARD 135.0\n",
            "EPISODE 581 STATES 817 Average Loss/Step 0.27 REWARD 180.0\n",
            "EPISODE 582 STATES 803 Average Loss/Step 0.26 REWARD 155.0\n",
            "EPISODE 583 STATES 615 Average Loss/Step 0.24 REWARD 110.0\n",
            "EPISODE 584 STATES 649 Average Loss/Step 0.26 REWARD 120.0\n",
            "EPISODE 585 STATES 595 Average Loss/Step 0.23 REWARD 105.0\n",
            "EPISODE 586 STATES 1110 Average Loss/Step 0.24 REWARD 330.0\n",
            "EPISODE 587 STATES 1510 Average Loss/Step 0.24 REWARD 410.0\n",
            "EPISODE 588 STATES 592 Average Loss/Step 0.22 REWARD 110.0\n",
            "EPISODE 589 STATES 539 Average Loss/Step 0.23 REWARD 105.0\n",
            "EPISODE 590 STATES 1086 Average Loss/Step 0.24 REWARD 315.0\n",
            "EPISODE 591 STATES 468 Average Loss/Step 0.24 REWARD 55.0\n",
            "EPISODE 592 STATES 618 Average Loss/Step 0.23 REWARD 120.0\n",
            "EPISODE 593 STATES 1081 Average Loss/Step 0.23 REWARD 210.0\n",
            "EPISODE 594 STATES 786 Average Loss/Step 0.23 REWARD 180.0\n",
            "EPISODE 595 STATES 699 Average Loss/Step 0.22 REWARD 135.0\n",
            "EPISODE 596 STATES 594 Average Loss/Step 0.23 REWARD 35.0\n",
            "EPISODE 597 STATES 1069 Average Loss/Step 0.23 REWARD 345.0\n",
            "EPISODE 598 STATES 771 Average Loss/Step 0.23 REWARD 140.0\n",
            "EPISODE 599 STATES 932 Average Loss/Step 0.23 REWARD 155.0\n",
            "EPISODE 600 STATES 863 Average Loss/Step 0.23 REWARD 180.0\n",
            "EPISODE 601 STATES 596 Average Loss/Step 0.23 REWARD 210.0\n",
            "EPISODE 602 STATES 680 Average Loss/Step 0.23 REWARD 160.0\n",
            "EPISODE 603 STATES 922 Average Loss/Step 0.21 REWARD 235.0\n",
            "EPISODE 604 STATES 618 Average Loss/Step 0.21 REWARD 35.0\n",
            "EPISODE 605 STATES 641 Average Loss/Step 0.19 REWARD 135.0\n",
            "EPISODE 606 STATES 633 Average Loss/Step 0.22 REWARD 75.0\n",
            "EPISODE 607 STATES 1321 Average Loss/Step 0.21 REWARD 390.0\n",
            "EPISODE 608 STATES 440 Average Loss/Step 0.22 REWARD 5.0\n",
            "EPISODE 609 STATES 818 Average Loss/Step 0.21 REWARD 180.0\n",
            "EPISODE 610 STATES 1312 Average Loss/Step 0.21 REWARD 285.0\n",
            "EPISODE 611 STATES 617 Average Loss/Step 0.21 REWARD 105.0\n",
            "EPISODE 612 STATES 1359 Average Loss/Step 0.20 REWARD 390.0\n",
            "EPISODE 613 STATES 1484 Average Loss/Step 0.20 REWARD 215.0\n",
            "EPISODE 614 STATES 986 Average Loss/Step 0.20 REWARD 285.0\n",
            "EPISODE 615 STATES 919 Average Loss/Step 0.21 REWARD 270.0\n",
            "EPISODE 616 STATES 672 Average Loss/Step 0.21 REWARD 105.0\n",
            "EPISODE 617 STATES 509 Average Loss/Step 0.22 REWARD 75.0\n",
            "EPISODE 618 STATES 1014 Average Loss/Step 0.22 REWARD 410.0\n",
            "EPISODE 619 STATES 1232 Average Loss/Step 0.22 REWARD 365.0\n",
            "EPISODE 620 STATES 840 Average Loss/Step 0.23 REWARD 210.0\n",
            "EPISODE 621 STATES 1325 Average Loss/Step 0.23 REWARD 485.0\n",
            "EPISODE 622 STATES 740 Average Loss/Step 0.23 REWARD 180.0\n",
            "EPISODE 623 STATES 647 Average Loss/Step 0.25 REWARD 155.0\n",
            "EPISODE 624 STATES 590 Average Loss/Step 0.23 REWARD 80.0\n",
            "EPISODE 625 STATES 650 Average Loss/Step 0.24 REWARD 100.0\n",
            "EPISODE 626 STATES 928 Average Loss/Step 0.23 REWARD 215.0\n",
            "EPISODE 627 STATES 965 Average Loss/Step 0.23 REWARD 265.0\n",
            "EPISODE 628 STATES 716 Average Loss/Step 0.22 REWARD 110.0\n",
            "EPISODE 629 STATES 791 Average Loss/Step 0.22 REWARD 135.0\n",
            "EPISODE 630 STATES 811 Average Loss/Step 0.24 REWARD 210.0\n",
            "EPISODE 631 STATES 616 Average Loss/Step 0.22 REWARD 35.0\n",
            "EPISODE 632 STATES 951 Average Loss/Step 0.23 REWARD 225.0\n",
            "EPISODE 633 STATES 631 Average Loss/Step 0.24 REWARD 105.0\n",
            "EPISODE 634 STATES 1423 Average Loss/Step 0.24 REWARD 485.0\n",
            "EPISODE 635 STATES 858 Average Loss/Step 0.25 REWARD 210.0\n",
            "EPISODE 636 STATES 689 Average Loss/Step 0.23 REWARD 120.0\n",
            "EPISODE 637 STATES 899 Average Loss/Step 0.24 REWARD 225.0\n",
            "EPISODE 638 STATES 947 Average Loss/Step 0.24 REWARD 285.0\n",
            "EPISODE 639 STATES 1032 Average Loss/Step 0.23 REWARD 210.0\n",
            "EPISODE 640 STATES 1412 Average Loss/Step 0.23 REWARD 420.0\n",
            "EPISODE 641 STATES 611 Average Loss/Step 0.26 REWARD 180.0\n",
            "EPISODE 642 STATES 954 Average Loss/Step 0.25 REWARD 360.0\n",
            "EPISODE 643 STATES 1057 Average Loss/Step 0.26 REWARD 530.0\n",
            "EPISODE 644 STATES 773 Average Loss/Step 0.25 REWARD 180.0\n",
            "EPISODE 645 STATES 610 Average Loss/Step 0.27 REWARD 110.0\n",
            "EPISODE 646 STATES 565 Average Loss/Step 0.24 REWARD 65.0\n",
            "EPISODE 647 STATES 744 Average Loss/Step 0.24 REWARD 125.0\n",
            "EPISODE 648 STATES 659 Average Loss/Step 0.25 REWARD 110.0\n",
            "EPISODE 649 STATES 700 Average Loss/Step 0.24 REWARD 165.0\n",
            "EPISODE 650 STATES 838 Average Loss/Step 0.24 REWARD 210.0\n",
            "EPISODE 651 STATES 715 Average Loss/Step 0.25 REWARD 160.0\n",
            "EPISODE 652 STATES 731 Average Loss/Step 0.23 REWARD 120.0\n",
            "EPISODE 653 STATES 521 Average Loss/Step 0.22 REWARD 35.0\n",
            "EPISODE 654 STATES 870 Average Loss/Step 0.25 REWARD 380.0\n",
            "EPISODE 655 STATES 1028 Average Loss/Step 0.26 REWARD 310.0\n",
            "EPISODE 656 STATES 650 Average Loss/Step 0.26 REWARD 140.0\n",
            "EPISODE 657 STATES 411 Average Loss/Step 0.25 REWARD 120.0\n",
            "EPISODE 658 STATES 383 Average Loss/Step 0.24 REWARD 50.0\n",
            "EPISODE 659 STATES 677 Average Loss/Step 0.25 REWARD 110.0\n",
            "EPISODE 660 STATES 439 Average Loss/Step 0.24 REWARD 80.0\n",
            "EPISODE 661 STATES 392 Average Loss/Step 0.22 REWARD 95.0\n",
            "EPISODE 662 STATES 398 Average Loss/Step 0.22 REWARD 125.0\n",
            "EPISODE 663 STATES 374 Average Loss/Step 0.25 REWARD 100.0\n",
            "EPISODE 664 STATES 916 Average Loss/Step 0.24 REWARD 215.0\n",
            "EPISODE 665 STATES 1182 Average Loss/Step 0.25 REWARD 415.0\n",
            "EPISODE 666 STATES 789 Average Loss/Step 0.26 REWARD 185.0\n",
            "EPISODE 667 STATES 511 Average Loss/Step 0.28 REWARD 75.0\n",
            "EPISODE 668 STATES 921 Average Loss/Step 0.24 REWARD 285.0\n",
            "EPISODE 669 STATES 1195 Average Loss/Step 0.26 REWARD 410.0\n",
            "EPISODE 670 STATES 364 Average Loss/Step 0.27 REWARD 45.0\n",
            "EPISODE 671 STATES 667 Average Loss/Step 0.24 REWARD 120.0\n",
            "EPISODE 672 STATES 386 Average Loss/Step 0.24 REWARD 50.0\n",
            "EPISODE 673 STATES 509 Average Loss/Step 0.24 REWARD 105.0\n",
            "EPISODE 674 STATES 788 Average Loss/Step 0.22 REWARD 210.0\n",
            "EPISODE 675 STATES 699 Average Loss/Step 0.23 REWARD 210.0\n",
            "EPISODE 676 STATES 882 Average Loss/Step 0.23 REWARD 165.0\n",
            "EPISODE 677 STATES 712 Average Loss/Step 0.23 REWARD 150.0\n",
            "EPISODE 678 STATES 1602 Average Loss/Step 0.25 REWARD 505.0\n",
            "EPISODE 679 STATES 724 Average Loss/Step 0.25 REWARD 120.0\n",
            "EPISODE 680 STATES 917 Average Loss/Step 0.24 REWARD 240.0\n",
            "EPISODE 681 STATES 776 Average Loss/Step 0.24 REWARD 385.0\n",
            "EPISODE 682 STATES 615 Average Loss/Step 0.24 REWARD 110.0\n",
            "EPISODE 683 STATES 823 Average Loss/Step 0.24 REWARD 410.0\n",
            "EPISODE 684 STATES 795 Average Loss/Step 0.26 REWARD 385.0\n",
            "EPISODE 685 STATES 1400 Average Loss/Step 0.25 REWARD 210.0\n",
            "EPISODE 686 STATES 798 Average Loss/Step 0.27 REWARD 210.0\n",
            "EPISODE 687 STATES 937 Average Loss/Step 0.27 REWARD 240.0\n",
            "EPISODE 688 STATES 884 Average Loss/Step 0.27 REWARD 225.0\n",
            "EPISODE 689 STATES 586 Average Loss/Step 0.26 REWARD 180.0\n",
            "EPISODE 690 STATES 569 Average Loss/Step 0.26 REWARD 60.0\n",
            "EPISODE 691 STATES 405 Average Loss/Step 0.25 REWARD 20.0\n",
            "EPISODE 692 STATES 758 Average Loss/Step 0.25 REWARD 180.0\n",
            "EPISODE 693 STATES 876 Average Loss/Step 0.26 REWARD 415.0\n",
            "EPISODE 694 STATES 714 Average Loss/Step 0.24 REWARD 105.0\n",
            "EPISODE 695 STATES 423 Average Loss/Step 0.26 REWARD 135.0\n",
            "EPISODE 696 STATES 933 Average Loss/Step 0.25 REWARD 215.0\n",
            "EPISODE 697 STATES 637 Average Loss/Step 0.26 REWARD 105.0\n",
            "EPISODE 698 STATES 698 Average Loss/Step 0.26 REWARD 165.0\n",
            "EPISODE 699 STATES 696 Average Loss/Step 0.26 REWARD 110.0\n",
            "EPISODE 700 STATES 742 Average Loss/Step 0.28 REWARD 110.0\n",
            "EPISODE 701 STATES 529 Average Loss/Step 0.27 REWARD 105.0\n",
            "EPISODE 702 STATES 923 Average Loss/Step 0.26 REWARD 260.0\n",
            "EPISODE 703 STATES 814 Average Loss/Step 0.24 REWARD 210.0\n",
            "EPISODE 704 STATES 796 Average Loss/Step 0.27 REWARD 135.0\n",
            "EPISODE 705 STATES 707 Average Loss/Step 0.25 REWARD 155.0\n",
            "EPISODE 706 STATES 869 Average Loss/Step 0.23 REWARD 185.0\n",
            "EPISODE 707 STATES 350 Average Loss/Step 0.26 REWARD 45.0\n",
            "EPISODE 708 STATES 806 Average Loss/Step 0.26 REWARD 335.0\n",
            "EPISODE 709 STATES 843 Average Loss/Step 0.24 REWARD 180.0\n",
            "EPISODE 710 STATES 962 Average Loss/Step 0.24 REWARD 195.0\n",
            "EPISODE 711 STATES 826 Average Loss/Step 0.22 REWARD 210.0\n",
            "EPISODE 712 STATES 645 Average Loss/Step 0.22 REWARD 105.0\n",
            "EPISODE 713 STATES 615 Average Loss/Step 0.23 REWARD 75.0\n",
            "EPISODE 714 STATES 633 Average Loss/Step 0.24 REWARD 185.0\n",
            "EPISODE 715 STATES 636 Average Loss/Step 0.23 REWARD 110.0\n",
            "EPISODE 716 STATES 424 Average Loss/Step 0.21 REWARD 50.0\n",
            "EPISODE 717 STATES 443 Average Loss/Step 0.22 REWARD 90.0\n",
            "EPISODE 718 STATES 546 Average Loss/Step 0.23 REWARD 25.0\n",
            "EPISODE 719 STATES 395 Average Loss/Step 0.22 REWARD 45.0\n",
            "EPISODE 720 STATES 568 Average Loss/Step 0.21 REWARD 105.0\n",
            "EPISODE 721 STATES 408 Average Loss/Step 0.21 REWARD 50.0\n",
            "EPISODE 722 STATES 616 Average Loss/Step 0.21 REWARD 75.0\n",
            "EPISODE 723 STATES 650 Average Loss/Step 0.20 REWARD 105.0\n",
            "EPISODE 724 STATES 733 Average Loss/Step 0.18 REWARD 120.0\n",
            "EPISODE 725 STATES 421 Average Loss/Step 0.21 REWARD 80.0\n",
            "EPISODE 726 STATES 747 Average Loss/Step 0.19 REWARD 135.0\n",
            "EPISODE 727 STATES 370 Average Loss/Step 0.18 REWARD 125.0\n",
            "EPISODE 728 STATES 799 Average Loss/Step 0.19 REWARD 355.0\n",
            "EPISODE 729 STATES 885 Average Loss/Step 0.20 REWARD 160.0\n",
            "EPISODE 730 STATES 443 Average Loss/Step 0.21 REWARD 50.0\n",
            "EPISODE 731 STATES 1493 Average Loss/Step 0.21 REWARD 660.0\n",
            "EPISODE 732 STATES 621 Average Loss/Step 0.23 REWARD 105.0\n",
            "EPISODE 733 STATES 956 Average Loss/Step 0.22 REWARD 225.0\n",
            "EPISODE 734 STATES 688 Average Loss/Step 0.22 REWARD 110.0\n",
            "EPISODE 735 STATES 643 Average Loss/Step 0.23 REWARD 110.0\n",
            "EPISODE 736 STATES 832 Average Loss/Step 0.21 REWARD 180.0\n",
            "EPISODE 737 STATES 408 Average Loss/Step 0.21 REWARD 50.0\n",
            "EPISODE 738 STATES 600 Average Loss/Step 0.23 REWARD 105.0\n",
            "EPISODE 739 STATES 901 Average Loss/Step 0.20 REWARD 485.0\n",
            "EPISODE 740 STATES 703 Average Loss/Step 0.22 REWARD 145.0\n",
            "EPISODE 741 STATES 781 Average Loss/Step 0.22 REWARD 110.0\n",
            "EPISODE 742 STATES 387 Average Loss/Step 0.21 REWARD 125.0\n",
            "EPISODE 743 STATES 1091 Average Loss/Step 0.22 REWARD 345.0\n",
            "EPISODE 744 STATES 915 Average Loss/Step 0.23 REWARD 260.0\n",
            "EPISODE 745 STATES 919 Average Loss/Step 0.24 REWARD 240.0\n",
            "EPISODE 746 STATES 482 Average Loss/Step 0.22 REWARD 80.0\n",
            "EPISODE 747 STATES 982 Average Loss/Step 0.23 REWARD 270.0\n",
            "EPISODE 748 STATES 528 Average Loss/Step 0.29 REWARD 50.0\n",
            "EPISODE 749 STATES 378 Average Loss/Step 0.25 REWARD 125.0\n",
            "EPISODE 750 STATES 584 Average Loss/Step 0.23 REWARD 165.0\n",
            "EPISODE 751 STATES 660 Average Loss/Step 0.27 REWARD 110.0\n",
            "EPISODE 752 STATES 627 Average Loss/Step 0.23 REWARD 135.0\n",
            "EPISODE 753 STATES 949 Average Loss/Step 0.26 REWARD 235.0\n",
            "EPISODE 754 STATES 429 Average Loss/Step 0.24 REWARD 60.0\n",
            "EPISODE 755 STATES 373 Average Loss/Step 0.25 REWARD 125.0\n",
            "EPISODE 756 STATES 436 Average Loss/Step 0.25 REWARD 75.0\n",
            "EPISODE 757 STATES 754 Average Loss/Step 0.24 REWARD 135.0\n",
            "EPISODE 758 STATES 543 Average Loss/Step 0.23 REWARD 60.0\n",
            "EPISODE 759 STATES 899 Average Loss/Step 0.23 REWARD 215.0\n",
            "EPISODE 760 STATES 639 Average Loss/Step 0.22 REWARD 135.0\n",
            "EPISODE 761 STATES 638 Average Loss/Step 0.22 REWARD 60.0\n",
            "EPISODE 762 STATES 765 Average Loss/Step 0.23 REWARD 110.0\n",
            "EPISODE 763 STATES 819 Average Loss/Step 0.21 REWARD 155.0\n",
            "EPISODE 764 STATES 522 Average Loss/Step 0.21 REWARD 55.0\n",
            "EPISODE 765 STATES 1048 Average Loss/Step 0.22 REWARD 225.0\n",
            "EPISODE 766 STATES 373 Average Loss/Step 0.22 REWARD 65.0\n",
            "EPISODE 767 STATES 1079 Average Loss/Step 0.23 REWARD 425.0\n",
            "EPISODE 768 STATES 776 Average Loss/Step 0.22 REWARD 160.0\n",
            "EPISODE 769 STATES 812 Average Loss/Step 0.22 REWARD 155.0\n",
            "EPISODE 770 STATES 994 Average Loss/Step 0.21 REWARD 220.0\n",
            "EPISODE 771 STATES 728 Average Loss/Step 0.22 REWARD 135.0\n",
            "EPISODE 772 STATES 776 Average Loss/Step 0.20 REWARD 180.0\n",
            "EPISODE 773 STATES 410 Average Loss/Step 0.21 REWARD 55.0\n",
            "EPISODE 774 STATES 480 Average Loss/Step 0.20 REWARD 100.0\n",
            "EPISODE 775 STATES 698 Average Loss/Step 0.21 REWARD 90.0\n",
            "EPISODE 776 STATES 622 Average Loss/Step 0.21 REWARD 105.0\n",
            "EPISODE 777 STATES 719 Average Loss/Step 0.19 REWARD 135.0\n",
            "EPISODE 778 STATES 814 Average Loss/Step 0.20 REWARD 180.0\n",
            "EPISODE 779 STATES 815 Average Loss/Step 0.18 REWARD 210.0\n",
            "EPISODE 780 STATES 618 Average Loss/Step 0.19 REWARD 210.0\n",
            "EPISODE 781 STATES 773 Average Loss/Step 0.21 REWARD 210.0\n",
            "EPISODE 782 STATES 593 Average Loss/Step 0.19 REWARD 105.0\n",
            "EPISODE 783 STATES 744 Average Loss/Step 0.19 REWARD 210.0\n",
            "EPISODE 784 STATES 387 Average Loss/Step 0.20 REWARD 75.0\n",
            "EPISODE 785 STATES 383 Average Loss/Step 0.21 REWARD 45.0\n",
            "EPISODE 786 STATES 759 Average Loss/Step 0.20 REWARD 135.0\n",
            "EPISODE 787 STATES 932 Average Loss/Step 0.20 REWARD 230.0\n",
            "EPISODE 788 STATES 636 Average Loss/Step 0.20 REWARD 150.0\n",
            "EPISODE 789 STATES 919 Average Loss/Step 0.21 REWARD 215.0\n",
            "EPISODE 790 STATES 599 Average Loss/Step 0.21 REWARD 105.0\n",
            "EPISODE 791 STATES 701 Average Loss/Step 0.21 REWARD 180.0\n",
            "EPISODE 792 STATES 572 Average Loss/Step 0.23 REWARD 110.0\n",
            "EPISODE 793 STATES 541 Average Loss/Step 0.22 REWARD 30.0\n",
            "EPISODE 794 STATES 511 Average Loss/Step 0.20 REWARD 100.0\n",
            "EPISODE 795 STATES 596 Average Loss/Step 0.21 REWARD 60.0\n",
            "EPISODE 796 STATES 623 Average Loss/Step 0.22 REWARD 30.0\n",
            "EPISODE 797 STATES 670 Average Loss/Step 0.20 REWARD 120.0\n",
            "EPISODE 798 STATES 918 Average Loss/Step 0.18 REWARD 170.0\n",
            "EPISODE 799 STATES 1155 Average Loss/Step 0.19 REWARD 260.0\n",
            "EPISODE 800 STATES 896 Average Loss/Step 0.20 REWARD 460.0\n",
            "EPISODE 801 STATES 795 Average Loss/Step 0.21 REWARD 135.0\n",
            "EPISODE 802 STATES 732 Average Loss/Step 0.21 REWARD 185.0\n",
            "EPISODE 803 STATES 948 Average Loss/Step 0.22 REWARD 245.0\n",
            "EPISODE 804 STATES 945 Average Loss/Step 0.21 REWARD 210.0\n",
            "EPISODE 805 STATES 696 Average Loss/Step 0.22 REWARD 120.0\n",
            "EPISODE 806 STATES 1839 Average Loss/Step 0.22 REWARD 515.0\n",
            "EPISODE 807 STATES 777 Average Loss/Step 0.22 REWARD 135.0\n",
            "EPISODE 808 STATES 802 Average Loss/Step 0.20 REWARD 175.0\n",
            "EPISODE 809 STATES 464 Average Loss/Step 0.23 REWARD 15.0\n",
            "EPISODE 810 STATES 694 Average Loss/Step 0.20 REWARD 105.0\n",
            "EPISODE 811 STATES 1119 Average Loss/Step 0.21 REWARD 230.0\n",
            "EPISODE 812 STATES 1191 Average Loss/Step 0.20 REWARD 475.0\n",
            "EPISODE 813 STATES 621 Average Loss/Step 0.24 REWARD 105.0\n",
            "EPISODE 814 STATES 592 Average Loss/Step 0.22 REWARD 120.0\n",
            "EPISODE 815 STATES 391 Average Loss/Step 0.22 REWARD 80.0\n",
            "EPISODE 816 STATES 537 Average Loss/Step 0.22 REWARD 105.0\n",
            "EPISODE 817 STATES 379 Average Loss/Step 0.21 REWARD 60.0\n",
            "EPISODE 818 STATES 728 Average Loss/Step 0.22 REWARD 155.0\n",
            "EPISODE 819 STATES 606 Average Loss/Step 0.19 REWARD 110.0\n",
            "EPISODE 820 STATES 810 Average Loss/Step 0.22 REWARD 410.0\n",
            "EPISODE 821 STATES 816 Average Loss/Step 0.24 REWARD 155.0\n",
            "EPISODE 822 STATES 1069 Average Loss/Step 0.23 REWARD 180.0\n",
            "EPISODE 823 STATES 502 Average Loss/Step 0.23 REWARD 30.0\n",
            "EPISODE 824 STATES 955 Average Loss/Step 0.24 REWARD 485.0\n",
            "EPISODE 825 STATES 594 Average Loss/Step 0.25 REWARD 55.0\n",
            "EPISODE 826 STATES 802 Average Loss/Step 0.21 REWARD 210.0\n",
            "EPISODE 827 STATES 849 Average Loss/Step 0.23 REWARD 210.0\n",
            "EPISODE 828 STATES 936 Average Loss/Step 0.23 REWARD 490.0\n",
            "EPISODE 829 STATES 709 Average Loss/Step 0.25 REWARD 210.0\n",
            "EPISODE 830 STATES 664 Average Loss/Step 0.23 REWARD 105.0\n",
            "EPISODE 831 STATES 939 Average Loss/Step 0.24 REWARD 225.0\n",
            "EPISODE 832 STATES 384 Average Loss/Step 0.23 REWARD 50.0\n",
            "EPISODE 833 STATES 678 Average Loss/Step 0.25 REWARD 120.0\n",
            "EPISODE 834 STATES 722 Average Loss/Step 0.26 REWARD 135.0\n",
            "EPISODE 835 STATES 943 Average Loss/Step 0.24 REWARD 210.0\n",
            "EPISODE 836 STATES 567 Average Loss/Step 0.23 REWARD 65.0\n",
            "EPISODE 837 STATES 786 Average Loss/Step 0.24 REWARD 210.0\n",
            "EPISODE 838 STATES 1561 Average Loss/Step 0.26 REWARD 460.0\n",
            "EPISODE 839 STATES 815 Average Loss/Step 0.24 REWARD 265.0\n",
            "EPISODE 840 STATES 814 Average Loss/Step 0.23 REWARD 170.0\n",
            "EPISODE 841 STATES 828 Average Loss/Step 0.25 REWARD 355.0\n",
            "EPISODE 842 STATES 786 Average Loss/Step 0.25 REWARD 210.0\n",
            "EPISODE 843 STATES 669 Average Loss/Step 0.26 REWARD 155.0\n",
            "EPISODE 844 STATES 437 Average Loss/Step 0.26 REWARD 80.0\n",
            "EPISODE 845 STATES 698 Average Loss/Step 0.24 REWARD 105.0\n",
            "EPISODE 846 STATES 788 Average Loss/Step 0.22 REWARD 155.0\n",
            "EPISODE 847 STATES 627 Average Loss/Step 0.25 REWARD 120.0\n",
            "EPISODE 848 STATES 1405 Average Loss/Step 0.25 REWARD 640.0\n"
          ],
          "name": "stdout"
        }
      ]
    },
    {
      "cell_type": "code",
      "metadata": {
        "id": "6qrdlGUCa9Mc"
      },
      "source": [
        "moving_average_reward = [0 for i in range(20)]\n",
        "for i in range(20, len(reward_over_time)):\n",
        "  moving_average = np.mean(reward_over_time[i-20:i])\n",
        "  moving_average_reward.append(moving_average)\n"
      ],
      "execution_count": null,
      "outputs": []
    },
    {
      "cell_type": "code",
      "metadata": {
        "colab": {
          "base_uri": "https://localhost:8080/",
          "height": 312
        },
        "id": "zED8rmW4bgiY",
        "outputId": "9ab69367-3443-4943-c779-56d4db54c50d"
      },
      "source": [
        "plt.clf()\n",
        "plt.plot(reward_over_time, color=\"orange\", label=\"20 Episode Moving Average\")\n",
        "plt.plot(moving_average_reward, color=\"blue\", label=\"Episode Reward\")\n",
        "plt.xlabel(\"Episodes\")\n",
        "plt.ylabel(\"Reward\")\n",
        "plt.title(\"Episodes vs Reward Episodes 1-575\")\n",
        "plt.legend()\n",
        "plt.show()\n",
        "plt.savefig(\"drive/My Drive/SpaceInvadersDay2/Reward1-575.jpg\")"
      ],
      "execution_count": null,
      "outputs": [
        {
          "output_type": "display_data",
          "data": {
            "image/png": "[encoded data removed]",
            "text/plain": [
              "<Figure size 432x288 with 1 Axes>"
            ]
          },
          "metadata": {
            "tags": [],
            "needs_background": "light"
          }
        },
        {
          "output_type": "display_data",
          "data": {
            "text/plain": [
              "<Figure size 432x288 with 0 Axes>"
            ]
          },
          "metadata": {
            "tags": []
          }
        }
      ]
    },
    {
      "cell_type": "code",
      "metadata": {
        "id": "F_RRwVZ4dr-q"
      },
      "source": [
        "with open(\"drive/My Drive/SpaceInvadersDay2/rewardfile.txt\", \"w\") as f:\n",
        "  for r in reward_over_time:\n",
        "    f.write(\"%d\\n\" % r)\n",
        "with open(\"drive/My Drive/SpaceInvadersDay2/lossfile.txt\", \"w\") as f:\n",
        "  for r in loss_over_time:\n",
        "    f.write(\"%d\\n\" % r)\n",
        "with open(\"drive/My Drive/SpaceInvadersDay2/statesfile.txt\", \"w\") as f:\n",
        "  for r in states_per_episode:\n",
        "    f.write(\"%d\\n\" % r)"
      ],
      "execution_count": null,
      "outputs": []
    },
    {
      "cell_type": "code",
      "metadata": {
        "colab": {
          "base_uri": "https://localhost:8080/",
          "height": 312
        },
        "id": "s-x3-z-E-mFO",
        "outputId": "ab4dc94e-9594-48a3-d775-9fc1b9d0a898"
      },
      "source": [
        "plt.plot(reward_over_time)\n",
        "plt.title(\"Reward for Episodes 607 to 687 Space Invaders\")\n",
        "plt.xlabel(\"Episode\")\n",
        "plt.ylabel(\"Reward\")"
      ],
      "execution_count": null,
      "outputs": [
        {
          "output_type": "execute_result",
          "data": {
            "text/plain": [
              "Text(0, 0.5, 'Reward')"
            ]
          },
          "metadata": {
            "tags": []
          },
          "execution_count": 27
        },
        {
          "output_type": "display_data",
          "data": {
            "image/png": "[encoded data removed]",
            "text/plain": [
              "<Figure size 432x288 with 1 Axes>"
            ]
          },
          "metadata": {
            "tags": [],
            "needs_background": "light"
          }
        }
      ]
    }
  ]
}